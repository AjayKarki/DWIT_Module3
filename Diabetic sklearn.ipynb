{
 "cells": [
  {
   "cell_type": "code",
   "execution_count": null,
   "metadata": {},
   "outputs": [],
   "source": [
    "import pandas as pd\n",
    "from sklearn.datasets import load_diabetes"
   ]
  },
  {
   "cell_type": "code",
   "execution_count": null,
   "metadata": {},
   "outputs": [],
   "source": [
    "diab = load_diabetes()"
   ]
  },
  {
   "cell_type": "code",
   "execution_count": null,
   "metadata": {},
   "outputs": [],
   "source": [
    "diab.keys()"
   ]
  },
  {
   "cell_type": "code",
   "execution_count": 14,
   "metadata": {},
   "outputs": [
    {
     "data": {
      "text/plain": [
       "'.. _diabetes_dataset:\\n\\nDiabetes dataset\\n----------------\\n\\nTen baseline variables, age, sex, body mass index, average blood\\npressure, and six blood serum measurements were obtained for each of n =\\n442 diabetes patients, as well as the response of interest, a\\nquantitative measure of disease progression one year after baseline.\\n\\n**Data Set Characteristics:**\\n\\n  :Number of Instances: 442\\n\\n  :Number of Attributes: First 10 columns are numeric predictive values\\n\\n  :Target: Column 11 is a quantitative measure of disease progression one year after baseline\\n\\n  :Attribute Information:\\n      - Age\\n      - Sex\\n      - Body mass index\\n      - Average blood pressure\\n      - S1\\n      - S2\\n      - S3\\n      - S4\\n      - S5\\n      - S6\\n\\nNote: Each of these 10 feature variables have been mean centered and scaled by the standard deviation times `n_samples` (i.e. the sum of squares of each column totals 1).\\n\\nSource URL:\\nhttp://www4.stat.ncsu.edu/~boos/var.select/diabetes.html\\n\\nFor more information see:\\nBradley Efron, Trevor Hastie, Iain Johnstone and Robert Tibshirani (2004) \"Least Angle Regression,\" Annals of Statistics (with discussion), 407-499.\\n(http://web.stanford.edu/~hastie/Papers/LARS/LeastAngle_2002.pdf)'"
      ]
     },
     "execution_count": 14,
     "metadata": {},
     "output_type": "execute_result"
    }
   ],
   "source": [
    "diab.DESCR"
   ]
  },
  {
   "cell_type": "code",
   "execution_count": null,
   "metadata": {},
   "outputs": [],
   "source": [
    "df = pd.DataFrame(data = diab.data,columns =diab.feature_names)"
   ]
  },
  {
   "cell_type": "code",
   "execution_count": 15,
   "metadata": {},
   "outputs": [
    {
     "data": {
      "text/html": [
       "<div>\n",
       "<style scoped>\n",
       "    .dataframe tbody tr th:only-of-type {\n",
       "        vertical-align: middle;\n",
       "    }\n",
       "\n",
       "    .dataframe tbody tr th {\n",
       "        vertical-align: top;\n",
       "    }\n",
       "\n",
       "    .dataframe thead th {\n",
       "        text-align: right;\n",
       "    }\n",
       "</style>\n",
       "<table border=\"1\" class=\"dataframe\">\n",
       "  <thead>\n",
       "    <tr style=\"text-align: right;\">\n",
       "      <th></th>\n",
       "      <th>age</th>\n",
       "      <th>sex</th>\n",
       "      <th>bmi</th>\n",
       "      <th>bp</th>\n",
       "      <th>s1</th>\n",
       "      <th>s2</th>\n",
       "      <th>s3</th>\n",
       "      <th>s4</th>\n",
       "      <th>s5</th>\n",
       "      <th>s6</th>\n",
       "      <th>target</th>\n",
       "    </tr>\n",
       "  </thead>\n",
       "  <tbody>\n",
       "    <tr>\n",
       "      <th>0</th>\n",
       "      <td>0.038076</td>\n",
       "      <td>0.050680</td>\n",
       "      <td>0.061696</td>\n",
       "      <td>0.021872</td>\n",
       "      <td>-0.044223</td>\n",
       "      <td>-0.034821</td>\n",
       "      <td>-0.043401</td>\n",
       "      <td>-0.002592</td>\n",
       "      <td>0.019908</td>\n",
       "      <td>-0.017646</td>\n",
       "      <td>151.0</td>\n",
       "    </tr>\n",
       "    <tr>\n",
       "      <th>1</th>\n",
       "      <td>-0.001882</td>\n",
       "      <td>-0.044642</td>\n",
       "      <td>-0.051474</td>\n",
       "      <td>-0.026328</td>\n",
       "      <td>-0.008449</td>\n",
       "      <td>-0.019163</td>\n",
       "      <td>0.074412</td>\n",
       "      <td>-0.039493</td>\n",
       "      <td>-0.068330</td>\n",
       "      <td>-0.092204</td>\n",
       "      <td>75.0</td>\n",
       "    </tr>\n",
       "    <tr>\n",
       "      <th>2</th>\n",
       "      <td>0.085299</td>\n",
       "      <td>0.050680</td>\n",
       "      <td>0.044451</td>\n",
       "      <td>-0.005671</td>\n",
       "      <td>-0.045599</td>\n",
       "      <td>-0.034194</td>\n",
       "      <td>-0.032356</td>\n",
       "      <td>-0.002592</td>\n",
       "      <td>0.002864</td>\n",
       "      <td>-0.025930</td>\n",
       "      <td>141.0</td>\n",
       "    </tr>\n",
       "    <tr>\n",
       "      <th>3</th>\n",
       "      <td>-0.089063</td>\n",
       "      <td>-0.044642</td>\n",
       "      <td>-0.011595</td>\n",
       "      <td>-0.036656</td>\n",
       "      <td>0.012191</td>\n",
       "      <td>0.024991</td>\n",
       "      <td>-0.036038</td>\n",
       "      <td>0.034309</td>\n",
       "      <td>0.022692</td>\n",
       "      <td>-0.009362</td>\n",
       "      <td>206.0</td>\n",
       "    </tr>\n",
       "    <tr>\n",
       "      <th>4</th>\n",
       "      <td>0.005383</td>\n",
       "      <td>-0.044642</td>\n",
       "      <td>-0.036385</td>\n",
       "      <td>0.021872</td>\n",
       "      <td>0.003935</td>\n",
       "      <td>0.015596</td>\n",
       "      <td>0.008142</td>\n",
       "      <td>-0.002592</td>\n",
       "      <td>-0.031991</td>\n",
       "      <td>-0.046641</td>\n",
       "      <td>135.0</td>\n",
       "    </tr>\n",
       "  </tbody>\n",
       "</table>\n",
       "</div>"
      ],
      "text/plain": [
       "        age       sex       bmi        bp        s1        s2        s3  \\\n",
       "0  0.038076  0.050680  0.061696  0.021872 -0.044223 -0.034821 -0.043401   \n",
       "1 -0.001882 -0.044642 -0.051474 -0.026328 -0.008449 -0.019163  0.074412   \n",
       "2  0.085299  0.050680  0.044451 -0.005671 -0.045599 -0.034194 -0.032356   \n",
       "3 -0.089063 -0.044642 -0.011595 -0.036656  0.012191  0.024991 -0.036038   \n",
       "4  0.005383 -0.044642 -0.036385  0.021872  0.003935  0.015596  0.008142   \n",
       "\n",
       "         s4        s5        s6  target  \n",
       "0 -0.002592  0.019908 -0.017646   151.0  \n",
       "1 -0.039493 -0.068330 -0.092204    75.0  \n",
       "2 -0.002592  0.002864 -0.025930   141.0  \n",
       "3  0.034309  0.022692 -0.009362   206.0  \n",
       "4 -0.002592 -0.031991 -0.046641   135.0  "
      ]
     },
     "execution_count": 15,
     "metadata": {},
     "output_type": "execute_result"
    }
   ],
   "source": [
    "df.head()"
   ]
  },
  {
   "cell_type": "code",
   "execution_count": null,
   "metadata": {},
   "outputs": [],
   "source": [
    "df['target'] =  diab.target"
   ]
  },
  {
   "cell_type": "code",
   "execution_count": null,
   "metadata": {},
   "outputs": [],
   "source": [
    "df"
   ]
  },
  {
   "cell_type": "code",
   "execution_count": null,
   "metadata": {},
   "outputs": [],
   "source": [
    "df.isnull().sum()"
   ]
  },
  {
   "cell_type": "code",
   "execution_count": 21,
   "metadata": {},
   "outputs": [],
   "source": [
    "x=df.loc[:,'age':'s6']\n",
    "y=df['target']"
   ]
  },
  {
   "cell_type": "code",
   "execution_count": 22,
   "metadata": {},
   "outputs": [],
   "source": [
    "from sklearn.model_selection import train_test_split\n",
    "from sklearn.linear_model import LinearRegression"
   ]
  },
  {
   "cell_type": "code",
   "execution_count": 23,
   "metadata": {},
   "outputs": [],
   "source": [
    "predictor = LinearRegression()"
   ]
  },
  {
   "cell_type": "code",
   "execution_count": 28,
   "metadata": {},
   "outputs": [
    {
     "data": {
      "text/plain": [
       "(442, 10)"
      ]
     },
     "execution_count": 28,
     "metadata": {},
     "output_type": "execute_result"
    }
   ],
   "source": [
    "x.shape\n"
   ]
  },
  {
   "cell_type": "code",
   "execution_count": 25,
   "metadata": {},
   "outputs": [],
   "source": [
    "x_train,x_test,y_train,y_test = train_test_split(x,y,test_size = 0.2)"
   ]
  },
  {
   "cell_type": "code",
   "execution_count": 29,
   "metadata": {},
   "outputs": [
    {
     "data": {
      "text/plain": [
       "LinearRegression(copy_X=True, fit_intercept=True, n_jobs=None,\n",
       "         normalize=False)"
      ]
     },
     "execution_count": 29,
     "metadata": {},
     "output_type": "execute_result"
    }
   ],
   "source": [
    "predictor.fit(x_train,y_train)"
   ]
  },
  {
   "cell_type": "code",
   "execution_count": 30,
   "metadata": {},
   "outputs": [
    {
     "data": {
      "text/plain": [
       "0.522601594938757"
      ]
     },
     "execution_count": 30,
     "metadata": {},
     "output_type": "execute_result"
    }
   ],
   "source": [
    "predictor.score(x_test,y_test)"
   ]
  },
  {
   "cell_type": "code",
   "execution_count": 32,
   "metadata": {},
   "outputs": [
    {
     "data": {
      "text/plain": [
       "0.5091059674224528"
      ]
     },
     "execution_count": 32,
     "metadata": {},
     "output_type": "execute_result"
    }
   ],
   "source": [
    "predictor.score(x_train,y_train)"
   ]
  },
  {
   "cell_type": "code",
   "execution_count": 31,
   "metadata": {},
   "outputs": [],
   "source": [
    "y_pred = predictor.predict(x_train)"
   ]
  },
  {
   "cell_type": "code",
   "execution_count": 33,
   "metadata": {},
   "outputs": [
    {
     "data": {
      "text/plain": [
       "array([116.23870064, 105.22592252, 116.47878088, 162.49660575,\n",
       "       180.16477731, 225.71419067, 209.94852123, 204.04696685,\n",
       "       159.27634461, 153.55701163, 146.62584017, 154.40463014,\n",
       "       100.88950963, 123.37197543, 143.82615158, 147.46867525,\n",
       "       103.49098663, 161.06511851,  50.79637035, 234.27750336,\n",
       "       199.99464001,  56.14709332,  98.16346842, 206.33943124,\n",
       "       187.66281937, 143.21155743, 186.6202064 ,  63.39302233,\n",
       "        66.6533623 , 126.74307079, 266.98375404, 207.97107962,\n",
       "       110.92515101, 159.69427984, 237.52371934, 183.34484748,\n",
       "       176.11121933, 223.15363448, 235.39448517,  72.9811851 ,\n",
       "       199.18864611, 176.06081384, 206.64431608, 179.60267461,\n",
       "       162.36809083, 179.96670284, 104.83292552, 178.88213407,\n",
       "       232.86661937, 225.99714944, 282.79700192, 176.19943713,\n",
       "       108.60750535,  70.48818742,  75.59513425, 114.42826941,\n",
       "       226.69078323, 139.65878835, 203.37423487, 127.19989522,\n",
       "        77.45061618,  97.52859106, 169.0686197 ,  80.12729966,\n",
       "       159.22899536,  98.83037871,  81.55582779,  93.07682061,\n",
       "        87.32494372,  93.52308073, 180.93857937, 195.50153158,\n",
       "       130.25729776, 162.39964748, 127.11451453, 183.98230396,\n",
       "       227.54829869, 136.43943812, 134.94150349, 114.82356367,\n",
       "        79.93988077, 192.70347414, 103.87193858,  76.32121713,\n",
       "       183.72378553, 185.42190945, 154.33541506, 105.01668692,\n",
       "       174.59922897, 124.67607161, 237.55776047, 122.92297493,\n",
       "       148.00398384,  87.3294753 , 170.50446521,  88.10787864,\n",
       "       190.59451801, 181.86897192,  93.6906623 ,  72.25588065,\n",
       "        34.49711591, 123.24526117,  46.15749199, 142.4656003 ,\n",
       "       124.34164777, 169.27582354, 189.03362047, 120.38890315,\n",
       "       106.59657582, 149.55750629, 158.1456578 , 174.54130533,\n",
       "       245.39183744, 110.34841796,  83.41354884, 188.98060782,\n",
       "       261.79267425, 214.10379635, 203.88097251, 150.96106213,\n",
       "       174.04811193, 211.73727996, 194.85497877, 233.45581861,\n",
       "       118.48399145,  46.8670455 , 107.89888813, 148.09737131,\n",
       "        78.80439557,  56.06835422,  80.6140376 , 149.73277659,\n",
       "       207.35215538, 270.82134154, 198.30913383, 120.25325473,\n",
       "       143.35980876, 149.13710754, 100.42150519, 144.21230237,\n",
       "       148.64123358,  55.76003384, 179.94946641, 178.27208473,\n",
       "       159.29426478, 129.9118133 ,  70.14128279, 237.85670173,\n",
       "       167.92737265, 160.17917648, 166.36508945, 144.5113634 ,\n",
       "       211.64894653, 124.76932193,  70.06282831, 223.7457461 ,\n",
       "        62.52097789, 197.38334218,  50.74951889, 123.79827204,\n",
       "       142.97959134, 238.07688876, 124.72065597,  77.38553739,\n",
       "       242.57400824,  60.1903807 , 157.375689  , 222.50967643,\n",
       "       136.02217384, 134.95837706, 117.63794184, 100.82115209,\n",
       "       164.76806641, 195.41662581, 125.37353887,  66.30167853,\n",
       "       138.65554699, 166.7413563 , 101.25292257,  98.84710164,\n",
       "       208.60244682,  60.907979  , 240.33218447, 194.57785934,\n",
       "       130.09393057, 207.22300451, 267.1087242 , 124.54744832,\n",
       "       251.38664959, 113.68184671, 101.54092065, 126.63698107,\n",
       "       148.37781652, 189.88734573, 245.89090308, 224.66310324,\n",
       "       242.95281976, 104.30231843, 127.55195692, 153.44013299,\n",
       "       206.92922573,  98.51872972,  65.01278396,  75.60803523,\n",
       "       125.84990683, 149.7482415 , 185.04018075, 148.20956522,\n",
       "       164.49477364,  87.63726868,  78.96754065, 145.3955495 ,\n",
       "       213.36207954, 290.64759904, 127.45265642, 108.44893779,\n",
       "       106.34689198, 104.3582686 , 161.05273036, 128.12109405,\n",
       "       164.83564443, 119.80187688, 204.00452459, 237.3960175 ,\n",
       "        87.49333579, 136.94561651, 160.41563519, 233.73631344,\n",
       "        77.36986556,  91.81599206, 207.75391031, 214.21053577,\n",
       "       106.90646918,  62.19216576,  94.31410182, 143.3435152 ,\n",
       "       118.50617523, 161.089174  , 119.3233329 , 168.65008897,\n",
       "       164.94449481, 174.3213631 ,  87.67804635,  98.58071595,\n",
       "       173.97291149, 150.76082919, 142.03516546, 152.60370982,\n",
       "       256.15296902, 173.69893011, 109.92289386,  72.62023154,\n",
       "        85.21555177, 146.82227638,  52.47733756, 152.29584401,\n",
       "       137.12793888,  88.26866856, 195.91700619, 209.27635188,\n",
       "       130.10048781, 144.92519511, 131.2127943 , 190.03182914,\n",
       "       132.63718115, 140.29720635, 161.2605677 , 199.60954359,\n",
       "       137.74425837, 109.43704409, 136.1642337 , 169.80651015,\n",
       "       122.06060233,  54.39866698, 211.66651352, 233.81905205,\n",
       "       166.6118377 , 161.19589344, 184.94066784,  39.64094856,\n",
       "       194.91655626, 176.65260746, 165.90477339, 155.53346578,\n",
       "       119.99721522, 200.44847094,  54.25482975, 107.9038501 ,\n",
       "        74.32251904, 144.41549883,  84.8538505 ,  48.23553714,\n",
       "       118.06494483, 232.62746782, 186.20060861, 100.6717717 ,\n",
       "       245.92585282, 109.70743596, 112.97453473, 174.31985564,\n",
       "        82.15662402, 132.9939877 ,  87.5950955 , 271.67110835,\n",
       "       230.98861315, 168.3560379 , 187.30463109,  65.7027105 ,\n",
       "       142.87729164, 184.57238407, 164.18401958, 193.31515457,\n",
       "        78.93407965, 244.94590157, 130.71094945, 206.90532023,\n",
       "       117.0833327 ,  74.23900297, 247.08566696, 257.54251295,\n",
       "       169.78423272,  83.59434664, 122.25684703, 113.68373282,\n",
       "       187.73372007, 255.14958755,  84.45536243, 182.22272498,\n",
       "       121.70175191, 204.2700535 , 158.50760194, 183.46798796,\n",
       "       157.31868718, 119.66938471, 128.97969316, 151.56033053,\n",
       "       168.84115602, 188.2306229 , 154.54799217, 167.13896153,\n",
       "       192.98575983, 168.25044968, 214.16675494, 128.57566681,\n",
       "        96.63416436,  76.49325288,  53.58740513, 178.05858089,\n",
       "       215.6184042 , 231.03264899, 115.64359748,  56.63548507,\n",
       "       116.15920472])"
      ]
     },
     "execution_count": 33,
     "metadata": {},
     "output_type": "execute_result"
    }
   ],
   "source": [
    "y_pred"
   ]
  },
  {
   "cell_type": "code",
   "execution_count": null,
   "metadata": {},
   "outputs": [],
   "source": []
  }
 ],
 "metadata": {
  "kernelspec": {
   "display_name": "Python 3",
   "language": "python",
   "name": "python3"
  },
  "language_info": {
   "codemirror_mode": {
    "name": "ipython",
    "version": 3
   },
   "file_extension": ".py",
   "mimetype": "text/x-python",
   "name": "python",
   "nbconvert_exporter": "python",
   "pygments_lexer": "ipython3",
   "version": "3.7.3"
  }
 },
 "nbformat": 4,
 "nbformat_minor": 2
}
